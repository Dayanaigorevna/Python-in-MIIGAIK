{
 "cells": [
  {
   "cell_type": "code",
   "execution_count": 3,
   "metadata": {},
   "outputs": [
    {
     "name": "stdout",
     "output_type": "stream",
     "text": [
      "введите число х12\n",
      "введите число у12\n",
      "введите число х21\n",
      "введите число у21\n",
      "1.4142135623730951\n"
     ]
    }
   ],
   "source": [
    "x1=int(input(\"введите число х1\"))\n",
    "y1=int(input(\"введите число у1\"))\n",
    "x2=int(input(\"введите число х2\"))\n",
    "y2=int(input(\"введите число у2\"))\n",
    "d=(((x2-x1))**2+((y2-y1))**2)**0.5\n",
    "print(d)"
   ]
  },
  {
   "cell_type": "code",
   "execution_count": 1,
   "metadata": {},
   "outputs": [
    {
     "name": "stdout",
     "output_type": "stream",
     "text": [
      "5\n"
     ]
    }
   ],
   "source": [
    "first_list = ['Ночь', 'улица', 'фонарь', 'аптека', 'Бессмысленный', 'и', 'тусклый', 'свет']\n",
    "second_list = ['Живи', 'еще', 'хоть', 'четверть', 'века', 'Все', 'будет', 'так', 'Исхода', 'нет']\n",
    "a=max(first_list, key=len)\n",
    "b=max(second_list, key=len)\n",
    "c= len(a)-len(b)\n",
    "abs(c)\n",
    "print(c)"
   ]
  },
  {
   "cell_type": "code",
   "execution_count": 22,
   "metadata": {},
   "outputs": [
    {
     "name": "stdout",
     "output_type": "stream",
     "text": [
      "5\n",
      "0 1 2 3 4\n",
      "1 0 1 2 3\n",
      "2 1 0 1 2\n",
      "3 2 1 0 1\n",
      "4 3 2 1 0\n"
     ]
    }
   ],
   "source": [
    "n=int(input())\n",
    "a=[[\".\"] * n for i in range(n)]\n",
    "for i in range(n):\n",
    "    for j in range(n):\n",
    "        a[i][j]= abs(j-i)\n",
    "for row in a:\n",
    "    print(\" \".join([str(elem) for elem in row]))"
   ]
  },
  {
   "cell_type": "code",
   "execution_count": 21,
   "metadata": {},
   "outputs": [
    {
     "name": "stdout",
     "output_type": "stream",
     "text": [
      "Привет! Я твоя новая строка\n"
     ]
    }
   ],
   "source": [
    "YouString = \"Привеееееееет!!! Я тттвоя новаяяя стррока)))))\" \n",
    "Count = len(YouString) \n",
    "NewString = \"\" \n",
    "for i in range(Count-1): \n",
    "    if YouString[i] == YouString[i + 1]: \n",
    "        continue \n",
    "    else: \n",
    "         NewString = NewString+ YouString[i] \n",
    "next \n",
    "print(NewString)"
   ]
  },
  {
   "cell_type": "code",
   "execution_count": null,
   "metadata": {
    "scrolled": true
   },
   "outputs": [],
   "source": [
    "a=list(map(int, input().split()))\n",
    "s= \" \" * a[0]\n",
    "for i in range(a[-1]):\n",
    "    b= input().split()\n",
    "for j in range(int(b[0]), int(int(b[-1]))+1):\n",
    "    print(s.replace(s[j-1], \".\"))"
   ]
  },
  {
   "cell_type": "code",
   "execution_count": null,
   "metadata": {},
   "outputs": [],
   "source": []
  }
 ],
 "metadata": {
  "kernelspec": {
   "display_name": "Python 3",
   "language": "python",
   "name": "python3"
  }
 },
 "nbformat": 4,
 "nbformat_minor": 2
}
