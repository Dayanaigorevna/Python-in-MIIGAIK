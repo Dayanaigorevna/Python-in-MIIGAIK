{
 "cells": [
  {
   "cell_type": "code",
   "execution_count": 16,
   "metadata": {},
   "outputs": [
    {
     "name": "stdout",
     "output_type": "stream",
     "text": [
      "['-2.000', '1.000', '3.000']\n"
     ]
    }
   ],
   "source": [
    "a=[1.0,-2.0,3.0]\n",
    "a= sorted(a)\n",
    "a=[\"%.3f\" %-2.0,\"%.3f\" %1.0,\"%.3f\" %3.0]\n",
    "print(a)"
   ]
  },
  {
   "cell_type": "code",
   "execution_count": 2,
   "metadata": {},
   "outputs": [
    {
     "name": "stdout",
     "output_type": "stream",
     "text": [
      "es\n"
     ]
    }
   ],
   "source": [
    "a=str(\"sunsets\")\n",
    "if len(a)%2==0:\n",
    "    print(\"s\")\n",
    "else:\n",
    "    print(\"es\")"
   ]
  },
  {
   "cell_type": "code",
   "execution_count": 16,
   "metadata": {},
   "outputs": [
    {
     "name": "stdout",
     "output_type": "stream",
     "text": [
      " WE ARE  THE CHAMPIONS MY FRIEND \n"
     ]
    }
   ],
   "source": [
    "s=str(\"BOOMWEBOOMAREBOOMBOOMTHEBOOMCHAMPIONSBOOMMYBOOMFRIENDBOOM\")\n",
    "s.split()\n",
    "s=s.replace(\"BOOM\",\" \")\n",
    "print(s)"
   ]
  },
  {
   "cell_type": "code",
   "execution_count": 1,
   "metadata": {},
   "outputs": [
    {
     "name": "stdout",
     "output_type": "stream",
     "text": [
      "введите строчкуHey fellow warriors\n",
      "Hey wollef sroirraw\n"
     ]
    }
   ],
   "source": [
    "a=input(\"введите строчку\")\n",
    "a1=a.split()\n",
    "b=[]\n",
    "c=0\n",
    "for i in range(len(a1)):\n",
    "    if len(a1[i])>5:\n",
    "        b.append(a1[i])\n",
    "for i in range(len(b)):\n",
    "    b[i]=b[i][::-1]\n",
    "for j in range (len(b)):\n",
    "    for i in range(c,len(a1)):\n",
    "        if len(a1[i])>5:\n",
    "            a1[i]=b[j]\n",
    "            c+=1\n",
    "            break\n",
    "        c+=1\n",
    "print(\" \".join(a1))"
   ]
  },
  {
   "cell_type": "code",
   "execution_count": null,
   "metadata": {},
   "outputs": [],
   "source": [
    "a=[]\n",
    "b=int(input(\"введите число\"))\n",
    "for i in range(b):\n",
    "    a.append\n",
    "    (input(\"введите смайл\"))\n",
    "c=[\":\",\"~\",\"-\",\";\",\")\",\"D\",\",\"]\n",
    "d=[]\n",
    "\n",
    "for i in a:\n",
    "    for j in c:\n",
    "        if a in c:\n",
    "            d.append(i)\n",
    "        e=\" \".join(d)\n",
    "        f={}\n",
    "        for i in range(len(d)):\n",
    "            f[d[i]]=e.count(str(d[i]))\n",
    "            g=list(f.values())\n",
    "            h=0\n",
    "        for i in range(len(a)):\n",
    "            if len(a[i])==g[i]:\n",
    "                h+=1\n",
    "    print(h)"
   ]
  },
  {
   "cell_type": "code",
   "execution_count": 14,
   "metadata": {},
   "outputs": [
    {
     "ename": "IndentationError",
     "evalue": "unindent does not match any outer indentation level (<ipython-input-14-e17a1bba2283>, line 5)",
     "output_type": "error",
     "traceback": [
      "\u001b[1;36m  File \u001b[1;32m\"<ipython-input-14-e17a1bba2283>\"\u001b[1;36m, line \u001b[1;32m5\u001b[0m\n\u001b[1;33m    k=input(\"Введите целое число K\")\u001b[0m\n\u001b[1;37m                                    ^\u001b[0m\n\u001b[1;31mIndentationError\u001b[0m\u001b[1;31m:\u001b[0m unindent does not match any outer indentation level\n"
     ]
    }
   ],
   "source": []
  },
  {
   "cell_type": "code",
   "execution_count": 11,
   "metadata": {},
   "outputs": [
    {
     "ename": "IndentationError",
     "evalue": "unindent does not match any outer indentation level (<ipython-input-11-7f960a712b7e>, line 7)",
     "output_type": "error",
     "traceback": [
      "\u001b[1;36m  File \u001b[1;32m\"<ipython-input-11-7f960a712b7e>\"\u001b[1;36m, line \u001b[1;32m7\u001b[0m\n\u001b[1;33m    if k==\"\" or int(k)<=0 or int(k)>n:\u001b[0m\n\u001b[1;37m                                      ^\u001b[0m\n\u001b[1;31mIndentationError\u001b[0m\u001b[1;31m:\u001b[0m unindent does not match any outer indentation level\n"
     ]
    }
   ],
   "source": []
  },
  {
   "cell_type": "code",
   "execution_count": null,
   "metadata": {},
   "outputs": [],
   "source": []
  }
 ],
 "metadata": {
  "kernelspec": {
   "display_name": "Python 3",
   "language": "python",
   "name": "python3"
  }
 },
 "nbformat": 4,
 "nbformat_minor": 2
}
