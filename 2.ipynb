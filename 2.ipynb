{
 "cells": [
  {
   "cell_type": "code",
   "execution_count": 1,
   "metadata": {},
   "outputs": [
    {
     "name": "stdout",
     "output_type": "stream",
     "text": [
      "Ваше имя?Даяна\n",
      "Привет, Даяна\n"
     ]
    }
   ],
   "source": [
    "a=input(\"Ваше имя?\")\n",
    "print(\"Привет,\",a)"
   ]
  },
  {
   "cell_type": "code",
   "execution_count": 2,
   "metadata": {},
   "outputs": [
    {
     "data": {
      "text/plain": [
       "1048576"
      ]
     },
     "execution_count": 2,
     "metadata": {},
     "output_type": "execute_result"
    }
   ],
   "source": [
    "2**20"
   ]
  },
  {
   "cell_type": "code",
   "execution_count": 5,
   "metadata": {},
   "outputs": [
    {
     "name": "stdout",
     "output_type": "stream",
     "text": [
      "Введите значение катета3\n",
      "Введите значение катета4\n",
      "5.0\n"
     ]
    }
   ],
   "source": [
    "a=int(input(\"Введите значение катета\"))\n",
    "b=int(input(\"Введите значение катета\"))\n",
    "print((a**2 + b**2)**0.5)"
   ]
  },
  {
   "cell_type": "code",
   "execution_count": 11,
   "metadata": {},
   "outputs": [
    {
     "name": "stdout",
     "output_type": "stream",
     "text": [
      "Введите число n3\n",
      "Введите число k14\n",
      "4\n"
     ]
    }
   ],
   "source": [
    "n=int(input(\"Введите число n\"))\n",
    "k=int(input(\"Введите число k\"))\n",
    "print(k//n)"
   ]
  },
  {
   "cell_type": "code",
   "execution_count": 15,
   "metadata": {},
   "outputs": [
    {
     "name": "stdout",
     "output_type": "stream",
     "text": [
      "Введите c:5\n",
      "Получено число- 5. \n",
      " Следующее число- 6, Предыдущее число- 4."
     ]
    }
   ],
   "source": [
    "c= int(input(\"Введите c:\"))\n",
    "print(\"Получено число-\" , str(c) + \".\" ,\"\\n Следующее число-\" , str(c+1) + \",\" , \"Предыдущее число-\" , c-1 , end=\".\")"
   ]
  },
  {
   "cell_type": "code",
   "execution_count": 16,
   "metadata": {},
   "outputs": [
    {
     "name": "stdout",
     "output_type": "stream",
     "text": [
      "Введите n:8\n",
      "10\n"
     ]
    }
   ],
   "source": [
    "n= int(input(\"Введите n:\"))\n",
    "print(n+2-(n%2))"
   ]
  },
  {
   "cell_type": "code",
   "execution_count": 12,
   "metadata": {},
   "outputs": [
    {
     "name": "stdout",
     "output_type": "stream",
     "text": [
      "Введите число1111\n",
      "4\n"
     ]
    }
   ],
   "source": [
    "m=int(input(\"Введите число\"))\n",
    "print(sum(map(int, str(m))))"
   ]
  },
  {
   "cell_type": "code",
   "execution_count": 52,
   "metadata": {},
   "outputs": [
    {
     "name": "stdout",
     "output_type": "stream",
     "text": [
      "Введите n4\n",
      "Введите a1\n",
      "Введите a2\n",
      "Введите a3\n",
      "Введите a4\n",
      "Введите k, если k<=n3\n",
      "Введите доп. элемент\"d\"\n",
      "['1', '2', '3', '4'] \n",
      " ['1', '2', '3', '\"d\"', '4']\n"
     ]
    }
   ],
   "source": [
    "n=int(input(\"Введите n\"))\n",
    "c=[0]\n",
    "for i in range(n-1):\n",
    "    c.append(0)\n",
    "len(c)\n",
    "for a in range(n):\n",
    "    c[a]=input(\"Введите a\")\n",
    "c_1=c.copy()\n",
    "k=int(input(\"Введите k, если k<=n\"))\n",
    "k_1=input(\"Введите доп. элемент\")\n",
    "c_1.insert(k, k_1)\n",
    "print(c, \"\\n\", c_1)"
   ]
  },
  {
   "cell_type": "code",
   "execution_count": 42,
   "metadata": {},
   "outputs": [
    {
     "name": "stdout",
     "output_type": "stream",
     "text": [
      "Введите n1\n",
      "Введите m8\n",
      "1 2 3 4 5 6 7\n"
     ]
    }
   ],
   "source": [
    "n=int(input(\"Введите n\"))\n",
    "m=int(input(\"Введите m\"))\n",
    "n<=m\n",
    "print(*list(range(n,m)))    "
   ]
  },
  {
   "cell_type": "code",
   "execution_count": 3,
   "metadata": {},
   "outputs": [
    {
     "name": "stdout",
     "output_type": "stream",
     "text": [
      "[1, 3, 5]\n"
     ]
    }
   ],
   "source": [
    "s=[5,1,2,3,4,5]\n",
    "a=[]\n",
    "for i in s[1: len(s): 2]:\n",
    "    a.append(i)\n",
    "print(a)\n"
   ]
  },
  {
   "cell_type": "code",
   "execution_count": 10,
   "metadata": {},
   "outputs": [
    {
     "name": "stdout",
     "output_type": "stream",
     "text": [
      "3.1366421888703004\n"
     ]
    }
   ],
   "source": [
    "b=3\n",
    "c=4-4/b\n",
    "for i in range(100):\n",
    "    b+=2\n",
    "    c=c+4/b\n",
    "    b+=2\n",
    "    c=c-4/b\n",
    "print(c)"
   ]
  },
  {
   "cell_type": "code",
   "execution_count": 28,
   "metadata": {},
   "outputs": [
    {
     "name": "stdout",
     "output_type": "stream",
     "text": [
      "введите n4\n"
     ]
    },
    {
     "data": {
      "text/plain": [
       "{-3: 9, -2: 4, -1: 1, 0: 0, 1: 1, 2: 4}"
      ]
     },
     "execution_count": 28,
     "metadata": {},
     "output_type": "execute_result"
    }
   ],
   "source": [
    "n=int(input(\"введите n\"))\n",
    "a={}\n",
    "for i in range(-(n-1), (n-1)):\n",
    "    a[i]=i**2\n",
    "a   "
   ]
  },
  {
   "cell_type": "code",
   "execution_count": 11,
   "metadata": {},
   "outputs": [
    {
     "name": "stdout",
     "output_type": "stream",
     "text": [
      "1\n",
      "*\n"
     ]
    }
   ],
   "source": [
    "n= int(input())\n",
    "j,t =int(n-1),int((n-1)/2)\n",
    "a=[[\".\"] * t + [\"*\"] + [\".\"] * t for i in range (n)]\n",
    "a[t]= [\"*\"] * n\n",
    "for i in range(n):\n",
    "    a[i][j]= \"*\"\n",
    "    a[j][i]= \"*\"\n",
    "    j-=1\n",
    "for row in a:\n",
    "    print(\" \".join([str(elem) for elem in row]))    "
   ]
  },
  {
   "cell_type": "code",
   "execution_count": 2,
   "metadata": {},
   "outputs": [
    {
     "name": "stdout",
     "output_type": "stream",
     "text": [
      "{'Даяна': 21, 'Илона': 21, 'Женя': 21, 'Настя': 22, 'Соня': 21, 'Сеня': 22}\n",
      "{'Илона': 21, 'Женя': 21, 'Настя': 22, 'Соня': 21, 'Сеня': 22}\n",
      "21.4\n",
      "{21: 'Соня', 22: 'Сеня'}\n"
     ]
    }
   ],
   "source": [
    "a={\"Даяна\": 21, \"Илона\": 21, \"Женя\": 21, \"Настя\": 22, \"Соня\": 21, \"Сеня\": 22}\n",
    "print(a)\n",
    "del a[\"Даяна\"]\n",
    "print(a)\n",
    "b=0\n",
    "for i in a:\n",
    "    b=a[i]+b\n",
    "print(b/len(a.values()))\n",
    "a_1={21: \"Даяна\", 21: \"Илона\", 21: \"Женя\", 22: \"Настя\", 21: \"Соня\", 22: \"Сеня\"}\n",
    "print(a_1)"
   ]
  },
  {
   "cell_type": "code",
   "execution_count": null,
   "metadata": {},
   "outputs": [],
   "source": []
  }
 ],
 "metadata": {
  "kernelspec": {
   "display_name": "Python 3",
   "language": "python",
   "name": "python3"
  },
  "language_info": {
   "codemirror_mode": {
    "name": "ipython",
    "version": 3
   },
   "file_extension": ".py",
   "mimetype": "text/x-python",
   "name": "python",
   "nbconvert_exporter": "python",
   "pygments_lexer": "ipython3",
   "version": "3.7.0"
  }
 },
 "nbformat": 4,
 "nbformat_minor": 2
}
